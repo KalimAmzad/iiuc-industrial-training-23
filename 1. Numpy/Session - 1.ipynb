{
 "cells": [
  {
   "cell_type": "markdown",
   "metadata": {},
   "source": [
    "# Numpy\n",
    "NumPy is a library for the Python programming language, adding support for large, multi-dimensional arrays and matrices, along with a large collection of high-level mathematical functions to operate on these arrays [[1]](https://en.wikipedia.org/wiki/NumPy). <br>\n",
    "\n",
    "NumPy is, just like SciPy, Scikit-Learn, Pandas, etc. one of the packages that you just can’t miss when you’re learning data science, mainly because this library provides you with an array data structure that holds some benefits over Python lists, such as: being more compact, faster access in reading and writing items, being more convenient and more efficient [[2]](https://www.datacamp.com/community/tutorials/python-numpy-tutorial). "
   ]
  },
  {
   "cell_type": "markdown",
   "metadata": {},
   "source": [
    "### Resources\n",
    "1. [Numpy Documentation](https://docs.scipy.org/doc/numpy/user/quickstart.html)\n",
    "2. [Scipy Lecture Notes](http://www.scipy-lectures.org/)\n",
    "3. [Python Data Science Handbook](https://www.amazon.com/Python-Data-Science-Handbook-Essential/dp/1491912057)\n",
    "3. [NumPy Data Science Essential Training](https://www.lynda.com/NumPy-tutorials/NumPy-Data-Science-Essential-Training/508873-2.html)"
   ]
  },
  {
   "cell_type": "markdown",
   "metadata": {},
   "source": [
    "### 1. Basics"
   ]
  },
  {
   "cell_type": "markdown",
   "metadata": {},
   "source": [
    "NumPy arrays are fixed-size containers of items that are more efficient than Python lists or tuples for data processing\n",
    "- They only store a single data type (mixed data types are stored as a string)\n",
    "- They can be one dimensional or multi-dimensional\n",
    "- Array elements can be modified, but the array size cannot change\n"
   ]
  },
  {
   "cell_type": "code",
   "execution_count": 5,
   "metadata": {},
   "outputs": [],
   "source": [
    "import numpy as np"
   ]
  },
  {
   "cell_type": "code",
   "execution_count": 6,
   "metadata": {},
   "outputs": [
    {
     "data": {
      "text/plain": [
       "array([   0,    3,    6,   23,   56,   73,  234,  456, 2391])"
      ]
     },
     "execution_count": 6,
     "metadata": {},
     "output_type": "execute_result"
    }
   ],
   "source": [
    "sales = [0, 3, 6, 23, 56, 73, 234, 456, 2391]\n",
    "sales_array = np.array(sales)\n",
    "sales_array"
   ]
  },
  {
   "cell_type": "code",
   "execution_count": 3,
   "metadata": {},
   "outputs": [
    {
     "data": {
      "text/plain": [
       "numpy.ndarray"
      ]
     },
     "execution_count": 3,
     "metadata": {},
     "output_type": "execute_result"
    }
   ],
   "source": [
    "type(sales_array)"
   ]
  },
  {
   "cell_type": "markdown",
   "metadata": {},
   "source": [
    "NumPy arrays have these key properties:\n",
    "- ndim – the number of dimensions (axes) in the array\n",
    "- shape – the size of the array for each dimension\n",
    "- size – the total number of elements in the array\n",
    "- dtype – the data type of the elements in the array"
   ]
  },
  {
   "cell_type": "code",
   "execution_count": 4,
   "metadata": {},
   "outputs": [
    {
     "name": "stdout",
     "output_type": "stream",
     "text": [
      "ndim: 1\n",
      "shape: (9,)\n",
      "size: 9\n",
      "dtype: int64\n"
     ]
    }
   ],
   "source": [
    "print(f\"ndim: {sales_array.ndim}\")\n",
    "print(f\"shape: {sales_array.shape}\")\n",
    "print(f\"size: {sales_array.size}\")\n",
    "print(f\"dtype: {sales_array.dtype}\")"
   ]
  },
  {
   "cell_type": "code",
   "execution_count": 10,
   "metadata": {},
   "outputs": [
    {
     "name": "stdout",
     "output_type": "stream",
     "text": [
      "[[  3   5  12  78]\n",
      " [ 23  56  73 234]\n",
      " [  6  23  56  73]]\n"
     ]
    },
    {
     "data": {
      "text/plain": [
       "numpy.ndarray"
      ]
     },
     "execution_count": 10,
     "metadata": {},
     "output_type": "execute_result"
    }
   ],
   "source": [
    "sales_2d = [[3, 5, 12, 78], [23, 56, 73, 234], [6, 23, 56, 73]]\n",
    "sales_2d_array = np.array(sales_2d)\n",
    "print(sales_2d_array)\n",
    "type(sales_2d_array)"
   ]
  },
  {
   "cell_type": "code",
   "execution_count": 11,
   "metadata": {},
   "outputs": [
    {
     "name": "stdout",
     "output_type": "stream",
     "text": [
      "ndim: 2\n",
      "shape: (3, 4)\n",
      "size: 12\n",
      "dtype: int64\n"
     ]
    }
   ],
   "source": [
    "print(f\"ndim: {sales_2d_array.ndim}\")\n",
    "print(f\"shape: {sales_2d_array.shape}\")\n",
    "print(f\"size: {sales_2d_array.size}\")\n",
    "print(f\"dtype: {sales_2d_array.dtype}\")"
   ]
  },
  {
   "cell_type": "markdown",
   "metadata": {},
   "source": []
  },
  {
   "cell_type": "markdown",
   "metadata": {},
   "source": [
    "### Array Creation"
   ]
  },
  {
   "cell_type": "markdown",
   "metadata": {},
   "source": [
    "##### As an alternative to converting lists, you can create arrays using functions\n",
    "![array creation](img/array_creation.png)"
   ]
  },
  {
   "cell_type": "markdown",
   "metadata": {},
   "source": []
  },
  {
   "cell_type": "code",
   "execution_count": 13,
   "metadata": {},
   "outputs": [
    {
     "data": {
      "text/plain": [
       "array([[1., 1., 1., 1.],\n",
       "       [1., 1., 1., 1.],\n",
       "       [1., 1., 1., 1.]])"
      ]
     },
     "execution_count": 13,
     "metadata": {},
     "output_type": "execute_result"
    }
   ],
   "source": [
    "np.ones((3, 4))"
   ]
  },
  {
   "cell_type": "code",
   "execution_count": 14,
   "metadata": {},
   "outputs": [
    {
     "data": {
      "text/plain": [
       "array([[0., 0., 0., 0.],\n",
       "       [0., 0., 0., 0.],\n",
       "       [0., 0., 0., 0.]])"
      ]
     },
     "execution_count": 14,
     "metadata": {},
     "output_type": "execute_result"
    }
   ],
   "source": [
    "np.zeros((3, 4))"
   ]
  },
  {
   "cell_type": "code",
   "execution_count": 15,
   "metadata": {},
   "outputs": [
    {
     "data": {
      "text/plain": [
       "array([[5, 5, 5, 5],\n",
       "       [5, 5, 5, 5],\n",
       "       [5, 5, 5, 5]])"
      ]
     },
     "execution_count": 15,
     "metadata": {},
     "output_type": "execute_result"
    }
   ],
   "source": [
    "np.full((3, 4), 5)"
   ]
  },
  {
   "cell_type": "code",
   "execution_count": 16,
   "metadata": {},
   "outputs": [
    {
     "data": {
      "text/plain": [
       "array([[1., 0., 0.],\n",
       "       [0., 1., 0.],\n",
       "       [0., 0., 1.]])"
      ]
     },
     "execution_count": 16,
     "metadata": {},
     "output_type": "execute_result"
    }
   ],
   "source": [
    "np.eye(3)"
   ]
  },
  {
   "cell_type": "code",
   "execution_count": 17,
   "metadata": {},
   "outputs": [
    {
     "data": {
      "text/plain": [
       "array([[0.35195466, 0.2578571 , 0.44767187, 0.07707635],\n",
       "       [0.89819737, 0.2578158 , 0.20808739, 0.74219542],\n",
       "       [0.79869588, 0.77909724, 0.92438517, 0.0789578 ]])"
      ]
     },
     "execution_count": 17,
     "metadata": {},
     "output_type": "execute_result"
    }
   ],
   "source": [
    "np.random.random((3, 4))"
   ]
  },
  {
   "cell_type": "code",
   "execution_count": 18,
   "metadata": {},
   "outputs": [
    {
     "data": {
      "text/plain": [
       "array([0, 1, 2, 3, 4, 5, 6, 7, 8, 9])"
      ]
     },
     "execution_count": 18,
     "metadata": {},
     "output_type": "execute_result"
    }
   ],
   "source": [
    "np.arange(10)"
   ]
  },
  {
   "cell_type": "code",
   "execution_count": 19,
   "metadata": {},
   "outputs": [
    {
     "data": {
      "text/plain": [
       "array([ 0. ,  2.5,  5. ,  7.5, 10. ])"
      ]
     },
     "execution_count": 19,
     "metadata": {},
     "output_type": "execute_result"
    }
   ],
   "source": [
    "np.linspace(0, 10, 5)"
   ]
  },
  {
   "cell_type": "code",
   "execution_count": 20,
   "metadata": {},
   "outputs": [
    {
     "data": {
      "text/plain": [
       "array([[0, 1, 2, 3, 4],\n",
       "       [5, 6, 7, 8, 9]])"
      ]
     },
     "execution_count": 20,
     "metadata": {},
     "output_type": "execute_result"
    }
   ],
   "source": [
    "np.arange(10).reshape(2, 5)"
   ]
  },
  {
   "cell_type": "markdown",
   "metadata": {},
   "source": [
    "#### You can create random number arrays from a variety of distributions using NumPy functions and methods (great for sampling and simulation!)"
   ]
  },
  {
   "cell_type": "code",
   "execution_count": 24,
   "metadata": {},
   "outputs": [
    {
     "data": {
      "text/plain": [
       "array([[0.97669977, 0.38019574, 0.92324623, 0.26169242],\n",
       "       [0.31909706, 0.11809123, 0.24176629, 0.31853393],\n",
       "       [0.96407925, 0.2636498 , 0.44100612, 0.60987081]])"
      ]
     },
     "execution_count": 24,
     "metadata": {},
     "output_type": "execute_result"
    }
   ],
   "source": [
    "from numpy.random import default_rng\n",
    "rng = default_rng(1234)\n",
    "random_array = rng.random((3, 4))\n",
    "random_array"
   ]
  },
  {
   "cell_type": "code",
   "execution_count": 31,
   "metadata": {},
   "outputs": [
    {
     "data": {
      "text/plain": [
       "array([[0.71693056, 2.05127993, 2.59271304, 2.12209535],\n",
       "       [2.69099511, 4.33047938, 0.81694131, 2.75637838]])"
      ]
     },
     "execution_count": 31,
     "metadata": {},
     "output_type": "execute_result"
    }
   ],
   "source": [
    "rng = default_rng(1234)\n",
    "mean, std_d = 2, 0.8\n",
    "random_array = rng.normal(mean, std_d, size=(2, 4))\n",
    "random_array"
   ]
  },
  {
   "cell_type": "code",
   "execution_count": null,
   "metadata": {},
   "outputs": [],
   "source": [
    "# task 1\n",
    "# create a array with 50 elemnets from the range 23 to 56\n",
    "# reshape it to 5 rows and 10 columns\n",
    "\n"
   ]
  },
  {
   "cell_type": "code",
   "execution_count": 32,
   "metadata": {},
   "outputs": [],
   "source": [
    "# task 2\n",
    "# create a random numbers from 0 to 1 in a 3x6 shape"
   ]
  },
  {
   "cell_type": "markdown",
   "metadata": {},
   "source": [
    "### Array Indexing & Slicing"
   ]
  },
  {
   "cell_type": "markdown",
   "metadata": {},
   "source": [
    "Indexing & slicing one-dimensional arrays is the same as base Python\n",
    "- array[index] – indexing to access a single element (0-indexed)\n",
    "- array[start:stop:step size] – slicing to access a series of elements (stop is not inclusive)\n"
   ]
  },
  {
   "cell_type": "code",
   "execution_count": 33,
   "metadata": {},
   "outputs": [
    {
     "name": "stdout",
     "output_type": "stream",
     "text": [
      "[5 6 7 8 9]\n",
      "8\n",
      "8\n",
      "[6 7]\n",
      "[5 7 9]\n",
      "[ 5  6  7  8 15]\n",
      "[ 1  2  3  8 15]\n"
     ]
    }
   ],
   "source": [
    "arange_arr = np.arange(5, 10)\n",
    "print(arange_arr)\n",
    "\n",
    "print(arange_arr[3]) # 4th element as 0-base indexing\n",
    "print(arange_arr[-2]) # 2nd last element\n",
    "print(arange_arr[1:3]) # Last index is exculded\n",
    "print(arange_arr[::2])\n",
    "\n",
    "arange_arr[-1] = 15 # mutable\n",
    "print(arange_arr)\n",
    "arange_arr[0:3] = [1, 2, 3]\n",
    "print(arange_arr)"
   ]
  },
  {
   "cell_type": "markdown",
   "metadata": {},
   "source": [
    "Indexing & slicing two-dimensional arrays requires an extra index or slice\n",
    "- array[row index, column index] – indexing to access a single element (0-indexed)\n",
    "- array[start:stop:step size, start:stop:step size] – slicing to access a series of elements"
   ]
  },
  {
   "cell_type": "code",
   "execution_count": 34,
   "metadata": {},
   "outputs": [
    {
     "name": "stdout",
     "output_type": "stream",
     "text": [
      "[[ 0  1  2]\n",
      " [ 3  4  5]\n",
      " [ 6  7  8]\n",
      " [ 9 10 11]]\n",
      "[3 4 5]\n",
      "5\n",
      "5\n",
      "[[1 2]\n",
      " [4 5]]\n",
      "[[ 1  2]\n",
      " [ 4  5]\n",
      " [ 7  8]\n",
      " [10 11]]\n",
      "[[0 1]\n",
      " [3 4]\n",
      " [6 7]]\n",
      "[[ 3  5]\n",
      " [ 6  8]\n",
      " [ 9 11]]\n"
     ]
    }
   ],
   "source": [
    "arange_arr = np.arange(12)\n",
    "arange_arr.shape = (4,3)\n",
    "print(arange_arr)\n",
    "\n",
    "# arange_arr(row, col)  ---- Basic format\n",
    "print(arange_arr[1])\n",
    "print(arange_arr[1][2])\n",
    "print(arange_arr[1,2]) # alternative format of previous one\n",
    "print(arange_arr[0:2, 1:3])\n",
    "print(arange_arr[:, 1:3])\n",
    "print(arange_arr[0:3, :2])\n",
    "print(arange_arr[1:, [0, 2]]) # Indexing with an array of integers (discreat)"
   ]
  },
  {
   "cell_type": "markdown",
   "metadata": {},
   "source": [
    "##### A few more examples\n",
    "![array indexing](img/array_indexing.png)"
   ]
  },
  {
   "cell_type": "markdown",
   "metadata": {},
   "source": [
    "#### Array indexing exercise\n",
    "![array indexing exercise](img/array_indexing_exercise.png)"
   ]
  },
  {
   "cell_type": "markdown",
   "metadata": {},
   "source": []
  },
  {
   "cell_type": "markdown",
   "metadata": {},
   "source": [
    "### 2. Array Operations"
   ]
  },
  {
   "cell_type": "code",
   "execution_count": 39,
   "metadata": {},
   "outputs": [
    {
     "data": {
      "text/plain": [
       "array([[12,  2,  6, 48],\n",
       "       [ 6,  3,  5, 73]])"
      ]
     },
     "execution_count": 39,
     "metadata": {},
     "output_type": "execute_result"
    }
   ],
   "source": [
    "sales = [[12, 2, 6, 48], [6, 3, 5, 73]]\n",
    "sales_array = np.array(sales)\n",
    "sales_array"
   ]
  },
  {
   "cell_type": "code",
   "execution_count": 40,
   "metadata": {},
   "outputs": [
    {
     "data": {
      "text/plain": [
       "array([[14,  4,  8, 50],\n",
       "       [ 8,  5,  7, 75]])"
      ]
     },
     "execution_count": 40,
     "metadata": {},
     "output_type": "execute_result"
    }
   ],
   "source": [
    "sales_array + 2"
   ]
  },
  {
   "cell_type": "code",
   "execution_count": 41,
   "metadata": {},
   "outputs": [
    {
     "data": {
      "text/plain": [
       "array([  72,    6,   30, 3504])"
      ]
     },
     "execution_count": 41,
     "metadata": {},
     "output_type": "execute_result"
    }
   ],
   "source": [
    "quanity = sales_array[0, :]\n",
    "price = sales_array[1, :]\n",
    "\n",
    "quanity * price"
   ]
  },
  {
   "cell_type": "code",
   "execution_count": 43,
   "metadata": {},
   "outputs": [],
   "source": [
    "# Task 3\n",
    "# design a campaign: random discount for a product on given prices\n",
    "\n",
    "prices = np.array([10, 20, 30, 40, 50, 60])\n",
    "\n",
    "# add flat 5tk shipping cose for every product\n",
    "\n",
    "# generate a random discount for every product\n",
    "\n",
    "# calculate the final price and round the result 2digits floating point \n"
   ]
  },
  {
   "cell_type": "markdown",
   "metadata": {},
   "source": [
    "##### You can filter arrays by indexing them with a logical test\n",
    "- Only the array elements in positions where the logical test returns True are returned"
   ]
  },
  {
   "cell_type": "code",
   "execution_count": 44,
   "metadata": {},
   "outputs": [
    {
     "data": {
      "text/plain": [
       "array([False,  True,  True,  True,  True,  True])"
      ]
     },
     "execution_count": 44,
     "metadata": {},
     "output_type": "execute_result"
    }
   ],
   "source": [
    "prices >= 20"
   ]
  },
  {
   "cell_type": "code",
   "execution_count": 46,
   "metadata": {},
   "outputs": [
    {
     "data": {
      "text/plain": [
       "array([20, 30, 40, 50, 60])"
      ]
     },
     "execution_count": 46,
     "metadata": {},
     "output_type": "execute_result"
    }
   ],
   "source": [
    "prices[prices >= 20]"
   ]
  },
  {
   "cell_type": "code",
   "execution_count": 47,
   "metadata": {},
   "outputs": [
    {
     "data": {
      "text/plain": [
       "array([20, 30, 40, 50])"
      ]
     },
     "execution_count": 47,
     "metadata": {},
     "output_type": "execute_result"
    }
   ],
   "source": [
    "prices[(prices >= 20) & (prices <= 50)]"
   ]
  },
  {
   "cell_type": "code",
   "execution_count": 49,
   "metadata": {},
   "outputs": [
    {
     "name": "stdout",
     "output_type": "stream",
     "text": [
      "[10 20  0 40  0 60]\n"
     ]
    }
   ],
   "source": [
    "# You can modify array values by assigning new ones\n",
    "prices[2] = 0\n",
    "prices[4] = 0\n",
    "print(prices)"
   ]
  },
  {
   "cell_type": "code",
   "execution_count": 51,
   "metadata": {},
   "outputs": [
    {
     "data": {
      "text/plain": [
       "array([10, 20,  8, 40,  8, 60])"
      ]
     },
     "execution_count": 51,
     "metadata": {},
     "output_type": "execute_result"
    }
   ],
   "source": [
    "prices[prices == 0] = 8\n",
    "prices"
   ]
  },
  {
   "cell_type": "markdown",
   "metadata": {},
   "source": [
    "- The **where()** NumPy function performs a logical test and returns a given value if the test is True, or another if the test is False"
   ]
  },
  {
   "cell_type": "markdown",
   "metadata": {},
   "source": [
    "![where filter function](img/where.png)"
   ]
  },
  {
   "cell_type": "code",
   "execution_count": 78,
   "metadata": {},
   "outputs": [],
   "source": [
    "inventory_array = np.array([23, 67, 0, 4, 65, 0])\n",
    "product_array = np.array([\"apple\", \"orange\", \"mango\", \"banana\", \"grape\", \"pineapple\"])"
   ]
  },
  {
   "cell_type": "code",
   "execution_count": 57,
   "metadata": {},
   "outputs": [
    {
     "data": {
      "text/plain": [
       "array(['Stock available', 'Stock available', 'out of stock',\n",
       "       'Stock available', 'Stock available', 'out of stock'], dtype='<U15')"
      ]
     },
     "execution_count": 57,
     "metadata": {},
     "output_type": "execute_result"
    }
   ],
   "source": [
    "np.where(inventory_array <= 0, \"out of stock\", \"Stock available\")"
   ]
  },
  {
   "cell_type": "code",
   "execution_count": 58,
   "metadata": {},
   "outputs": [
    {
     "data": {
      "text/plain": [
       "array(['apple', 'orange', 'out of stock', 'banana', 'grape',\n",
       "       'out of stock'], dtype='<U12')"
      ]
     },
     "execution_count": 58,
     "metadata": {},
     "output_type": "execute_result"
    }
   ],
   "source": [
    "np.where(inventory_array <= 0, \"out of stock\", product_array)"
   ]
  },
  {
   "cell_type": "markdown",
   "metadata": {},
   "source": [
    "#### Task 4\n",
    "> Hey there,<br><br>\n",
    "We’re working on some more promotions. Can you filter our product list to only include prices greater than 25?<br>\n",
    "Once you’ve done that, modify your logic to force \"pepsi\" into the list. Call this array ‘fancy_feast_special’.<br>\n",
    "Finally, we need to modify our shipping logic. Create a new shipping cost array, but this time if price is greater than 20, shipping cost is 0, otherwise shipping cost is 5.<br><br>\n",
    "Thanks!"
   ]
  },
  {
   "cell_type": "markdown",
   "metadata": {},
   "source": [
    "- Array aggregation methods let you calculate metrics like sum, mean, and max"
   ]
  },
  {
   "cell_type": "code",
   "execution_count": 59,
   "metadata": {},
   "outputs": [
    {
     "data": {
      "text/plain": [
       "array([23, 67,  0,  4, 65,  0])"
      ]
     },
     "execution_count": 59,
     "metadata": {},
     "output_type": "execute_result"
    }
   ],
   "source": [
    "inventory_array"
   ]
  },
  {
   "cell_type": "code",
   "execution_count": 60,
   "metadata": {},
   "outputs": [
    {
     "name": "stdout",
     "output_type": "stream",
     "text": [
      "67\n",
      "0\n",
      "26.5\n",
      "159\n"
     ]
    }
   ],
   "source": [
    "print(inventory_array.max())\n",
    "print(inventory_array.min())\n",
    "print(inventory_array.mean())\n",
    "print(inventory_array.sum())\n"
   ]
  },
  {
   "cell_type": "markdown",
   "metadata": {},
   "source": [
    "- You can also aggregate across rows or columns"
   ]
  },
  {
   "cell_type": "code",
   "execution_count": 83,
   "metadata": {},
   "outputs": [
    {
     "name": "stdout",
     "output_type": "stream",
     "text": [
      "[65 67 23 67]\n",
      "[67 67]\n",
      "[88 67 23 71]\n",
      "[ 94 155]\n"
     ]
    }
   ],
   "source": [
    "# 2x4 inventory array\n",
    "inventory_array = np.array([[23, 67, 0, 4], [65, 0, 23, 67]])\n",
    "print(inventory_array.max(axis=0)) # aggregate along the row\n",
    "print(inventory_array.max(axis=1)) # aggregate along the columns\n",
    "\n",
    "print(inventory_array.sum(axis=0)) # aggregate along the row\n",
    "print(inventory_array.sum(axis=1)) # aggregate along the columns"
   ]
  },
  {
   "cell_type": "code",
   "execution_count": 69,
   "metadata": {},
   "outputs": [
    {
     "data": {
      "text/plain": [
       "23.0"
      ]
     },
     "execution_count": 69,
     "metadata": {},
     "output_type": "execute_result"
    }
   ],
   "source": [
    "np.median(inventory_array)"
   ]
  },
  {
   "cell_type": "code",
   "execution_count": 71,
   "metadata": {},
   "outputs": [
    {
     "data": {
      "text/plain": [
       "65.5"
      ]
     },
     "execution_count": 71,
     "metadata": {},
     "output_type": "execute_result"
    }
   ],
   "source": [
    "np.percentile(inventory_array, 75)"
   ]
  },
  {
   "cell_type": "code",
   "execution_count": 72,
   "metadata": {},
   "outputs": [
    {
     "data": {
      "text/plain": [
       "array([ 0,  4, 23, 65, 67])"
      ]
     },
     "execution_count": 72,
     "metadata": {},
     "output_type": "execute_result"
    }
   ],
   "source": [
    "np.unique(inventory_array)"
   ]
  },
  {
   "cell_type": "code",
   "execution_count": 73,
   "metadata": {},
   "outputs": [
    {
     "data": {
      "text/plain": [
       "array([[4.79583152, 8.18535277, 0.        , 2.        ],\n",
       "       [8.06225775, 0.        , 4.79583152, 8.18535277]])"
      ]
     },
     "execution_count": 73,
     "metadata": {},
     "output_type": "execute_result"
    }
   ],
   "source": [
    "np.sqrt(inventory_array)"
   ]
  },
  {
   "cell_type": "markdown",
   "metadata": {},
   "source": [
    "+ The sort() method will sort arrays in place\n",
    "    - Use the axis argument to specify the dimension to sort by"
   ]
  },
  {
   "cell_type": "code",
   "execution_count": 81,
   "metadata": {},
   "outputs": [
    {
     "data": {
      "text/plain": [
       "array([[23, 67,  0,  4],\n",
       "       [65,  0, 23, 67]])"
      ]
     },
     "execution_count": 81,
     "metadata": {},
     "output_type": "execute_result"
    }
   ],
   "source": [
    "inventory_array"
   ]
  },
  {
   "cell_type": "code",
   "execution_count": 75,
   "metadata": {},
   "outputs": [
    {
     "data": {
      "text/plain": [
       "array([[ 0,  4, 23, 67],\n",
       "       [ 0, 23, 65, 67]])"
      ]
     },
     "execution_count": 75,
     "metadata": {},
     "output_type": "execute_result"
    }
   ],
   "source": [
    "inventory_array.sort()\n",
    "inventory_array"
   ]
  },
  {
   "cell_type": "code",
   "execution_count": 82,
   "metadata": {},
   "outputs": [
    {
     "data": {
      "text/plain": [
       "array([[23,  0,  0,  4],\n",
       "       [65, 67, 23, 67]])"
      ]
     },
     "execution_count": 82,
     "metadata": {},
     "output_type": "execute_result"
    }
   ],
   "source": [
    "inventory_array.sort(axis=0)\n",
    "inventory_array"
   ]
  },
  {
   "cell_type": "code",
   "execution_count": 84,
   "metadata": {},
   "outputs": [
    {
     "data": {
      "text/plain": [
       "array([[ 0,  4, 23, 67],\n",
       "       [ 0, 23, 65, 67]])"
      ]
     },
     "execution_count": 84,
     "metadata": {},
     "output_type": "execute_result"
    }
   ],
   "source": [
    "inventory_array.sort(axis=1)\n",
    "inventory_array"
   ]
  },
  {
   "cell_type": "markdown",
   "metadata": {},
   "source": [
    "### 3. Copy & View"
   ]
  },
  {
   "cell_type": "code",
   "execution_count": null,
   "metadata": {},
   "outputs": [
    {
     "name": "stdout",
     "output_type": "stream",
     "text": [
      "Original: [0 1 2 3 4 5 6 7 8 9]\n",
      "Copied: [0 1 2 3 4 5 6 7 8 9]\n"
     ]
    }
   ],
   "source": [
    "original_arr = np.arange(10)\n",
    "print(\"Original:\", original_arr)\n",
    "\n",
    "copied_arr = original_arr\n",
    "print(\"Copied:\", copied_arr)"
   ]
  },
  {
   "cell_type": "code",
   "execution_count": null,
   "metadata": {},
   "outputs": [
    {
     "name": "stdout",
     "output_type": "stream",
     "text": [
      "4442817040\n",
      "4442817040\n"
     ]
    }
   ],
   "source": [
    "### Same or Different\n",
    "#reference equilaty\n",
    "original_arr is copied_arr\n",
    "print(id(original_arr))\n",
    "print(id(copied_arr))"
   ]
  },
  {
   "cell_type": "code",
   "execution_count": null,
   "metadata": {},
   "outputs": [
    {
     "data": {
      "text/plain": [
       "array([3, 1, 2, 3, 4, 5, 6, 7, 8, 9])"
      ]
     },
     "metadata": {},
     "output_type": "display_data"
    }
   ],
   "source": [
    "#value equality\n",
    "original_arr == copied_arr\n",
    "copied_arr[0] = 3\n",
    "original_arr"
   ]
  },
  {
   "cell_type": "code",
   "execution_count": null,
   "metadata": {},
   "outputs": [
    {
     "data": {
      "text/plain": [
       "True"
      ]
     },
     "metadata": {},
     "output_type": "display_data"
    }
   ],
   "source": [
    "np.may_share_memory(original_arr, copied_arr)\n"
   ]
  },
  {
   "cell_type": "code",
   "execution_count": null,
   "metadata": {},
   "outputs": [
    {
     "name": "stdout",
     "output_type": "stream",
     "text": [
      "Before Chaning:\n",
      "[[88 91 82]\n",
      " [89 95 85]]\n",
      "[88 91 82 89 95 85]\n",
      "After Changing:\n",
      "[[88 91 82]\n",
      " [89 95 93]]\n",
      "[88 91 82 89 95 93]\n"
     ]
    }
   ],
   "source": [
    "### View\n",
    "raw_marks = np.array([88, 91, 82, 89, 95, 85])\n",
    "final_marks = raw_marks.view()\n",
    "final_marks.shape = (2, 3)\n",
    "print(\"Before Chaning:\")\n",
    "print(final_marks)\n",
    "print(raw_marks)\n",
    "final_marks[1,2] = 93\n",
    "print(\"After Changing:\")\n",
    "print(final_marks)\n",
    "print(raw_marks)"
   ]
  },
  {
   "cell_type": "code",
   "execution_count": null,
   "metadata": {},
   "outputs": [
    {
     "data": {
      "text/plain": [
       "True"
      ]
     },
     "metadata": {},
     "output_type": "display_data"
    }
   ],
   "source": [
    "np.may_share_memory(raw_marks, final_marks)\n"
   ]
  },
  {
   "cell_type": "code",
   "execution_count": null,
   "metadata": {},
   "outputs": [
    {
     "name": "stdout",
     "output_type": "stream",
     "text": [
      "[[88 91 82]\n",
      " [89 95 85]]\n"
     ]
    },
    {
     "data": {
      "text/plain": [
       "False"
      ]
     },
     "metadata": {},
     "output_type": "display_data"
    }
   ],
   "source": [
    "### Copy\n",
    "raw_marks = np.array([88, 91, 82, 89, 95, 85])\n",
    "#final_marks = raw_marks.copy()\n",
    "final_marks = np.copy(raw_marks)\n",
    "final_marks.shape = (2, 3)\n",
    "print(final_marks)\n",
    "np.may_share_memory(raw_marks, final_marks)"
   ]
  },
  {
   "cell_type": "markdown",
   "metadata": {},
   "source": []
  }
 ],
 "metadata": {
  "kernelspec": {
   "display_name": "Python 3 (ipykernel)",
   "language": "python",
   "name": "python3"
  },
  "language_info": {
   "codemirror_mode": {
    "name": "ipython",
    "version": 3
   },
   "file_extension": ".py",
   "mimetype": "text/x-python",
   "name": "python",
   "nbconvert_exporter": "python",
   "pygments_lexer": "ipython3",
   "version": "3.9.12"
  },
  "vscode": {
   "interpreter": {
    "hash": "aee8b7b246df8f9039afb4144a1f6fd8d2ca17a180786b69acc140d282b71a49"
   }
  }
 },
 "nbformat": 4,
 "nbformat_minor": 2
}
